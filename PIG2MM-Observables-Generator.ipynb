{
 "cells": [
  {
   "cell_type": "code",
   "execution_count": 2,
   "metadata": {},
   "outputs": [],
   "source": [
    "## Define the stabilizer group Diag(S_m) x Diag(S_n) as a permutation group\n",
    "def Sigma_x_stabilizer(m,n):\n",
    "    gens = [];        \n",
    "    for i in range(1,2*m-2,2):\n",
    "        gens = gens + [[(i,i+2),(i+1,i+3)]]\n",
    "    for j in range(2*m+1,2*m+2*n-2,2):\n",
    "        gens = gens + [[(j,j+2),(j+1,j+3)]]\n",
    "    return PermutationGroup(gens)"
   ]
  },
  {
   "cell_type": "code",
   "execution_count": 4,
   "metadata": {},
   "outputs": [
    {
     "data": {
      "text/plain": [
       "[ [ [ [ 1, 2, 3, 4 ] ] ], [ [ [ 1 ], [ 2 ], [ 3 ], [ 4 ] ] ], [ [ [ 1 ], [ 2 ], [ 3, 4 ] ], [ [ 1, 2 ], [ 3 ], [ 4 ] ] ], [ [ [ 1 ], [ 2, 3 ], [ 4 ] ], [ [ 1, 4 ], [ 2 ], [ 3 ] ] ], [ [ [ 1 ], [ 2, 3, 4 ] ], [ [ 1, 2, 4 ], [ 3 ] ] ], [ [ [ 1 ], [ 2, 4 ], [ 3 ] ] ], [ [ [ 1, 2 ], [ 3, 4 ] ] ], [ [ [ 1, 2, 3 ], [ 4 ] ], [ [ 1, 3, 4 ], [ 2 ] ] ], [ [ [ 1, 3 ], [ 2 ], [ 4 ] ] ], [ [ [ 1, 3 ], [ 2, 4 ] ] ], [ [ [ 1, 4 ], [ 2, 3 ] ] ] ]"
      ]
     },
     "execution_count": 4,
     "metadata": {},
     "output_type": "execute_result"
    }
   ],
   "source": [
    "## Every directed colored graph corresponds to a set partition of {1,...,2m+2n}\n",
    "## The distinct graphs are those which are not related by the action of the stabilizer group.\n",
    "## To enumerate the distinct graphs we organize the set partitions into orbits of the above group.\n",
    "## Orbits is a method that is implemented in GAP, we therefore use the sage interface libgap to access it.\n",
    "\n",
    "## The following example arranges the 1-color 2-edge graphs into orbits\n",
    "setparts = libgap([x.standard_form() for x in SetPartitions([1,2,3,4])])\n",
    "Sx = libgap(Sigma_x_stabilizer(2,0))\n",
    "Sx.Orbits(setparts, libgap.OnSetsSets)"
   ]
  },
  {
   "cell_type": "code",
   "execution_count": 10,
   "metadata": {},
   "outputs": [
    {
     "name": "stdout",
     "output_type": "stream",
     "text": [
      "[11, 15, 52, 117, 296, 877, 1252]\n"
     ]
    }
   ],
   "source": [
    "## As a sanity check we can count the number of orbits(distinct graphs) for various numbers of edges\n",
    "l = [];\n",
    "for k in [2..4]: \n",
    "    i = 0;\n",
    "    while (i <= k-i):\n",
    "        setparts = libgap([x.standard_form() for x in SetPartitions(2*(k-i)+2*i)])\n",
    "        Sx = libgap(Sigma_x_stabilizer(k-i,i))\n",
    "        l = l+[len(Sx.Orbits(setparts, libgap.OnSetsSets))]\n",
    "        i = i+1;\n",
    "print(l)"
   ]
  },
  {
   "cell_type": "code",
   "execution_count": null,
   "metadata": {},
   "outputs": [],
   "source": []
  }
 ],
 "metadata": {
  "kernelspec": {
   "display_name": "SageMath 9.1",
   "language": "sage",
   "name": "sagemath"
  },
  "language_info": {
   "codemirror_mode": {
    "name": "ipython",
    "version": 3
   },
   "file_extension": ".py",
   "mimetype": "text/x-python",
   "name": "python",
   "nbconvert_exporter": "python",
   "pygments_lexer": "ipython3",
   "version": "3.7.3"
  }
 },
 "nbformat": 4,
 "nbformat_minor": 2
}
