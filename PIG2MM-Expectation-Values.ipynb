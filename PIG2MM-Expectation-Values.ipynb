{
 "cells": [
  {
   "cell_type": "code",
   "execution_count": 1,
   "metadata": {},
   "outputs": [],
   "source": [
    "def CountDuplicates(S):\n",
    "## CountDuplicates is used to count the number of connected half-edges\n",
    "## in a graph represented by the set partition S. S is a list of lists, \n",
    "## and we count the number of times any number appears more than once in S\n",
    "    counts = {}\n",
    "    count = 0\n",
    "    for s in S:\n",
    "        for e in s:\n",
    "            counts[e] = 1 if e in counts else 0\n",
    "    return sum(counts.values())\n",
    "\n",
    "def DFactorialk(k):\n",
    "## The falling factorial D...(D-k+1)\n",
    "    D = var(\"D\")\n",
    "    return prod([D-i for i in [0..(k-1)]])\n",
    "\n",
    "def keepElements(L, elms):\n",
    "## The two point function can be seen as a map from a set partition L of a set of four elements,\n",
    "## into a list of lists of the form {L', X}, where L' is related to L by keeping only the elements\n",
    "## in L which are also in X. We implement the restriction of L to X using L' = keepElements(L, X).\n",
    "    l = []\n",
    "    elms = flatten(elms)\n",
    "    if isinstance(L,list):\n",
    "        for part in L:\n",
    "            l.append(flatten(keepElements(part, elms)))\n",
    "    elif L in elms:\n",
    "        l.append(L)\n",
    "    return l\n",
    "\n",
    "def diagramprod(g1,g2):\n",
    "## For n-points, which through wick contractions involve products of\n",
    "## 1 and 2-points we need a product of diagrams. This is an algebra structure\n",
    "## where elements are linear combinations of diagrams. The product is multiplication of\n",
    "## the coefficients and concatenation of the lists. diagramprod(g1,g2) takes two lists [coefficient, list of lists]\n",
    "## and returns [coefficient1*coefficient2, [lists1, lists2]]\n",
    "    return [g1[0]*g2[0], g1[1]+g2[1]]\n",
    "\n",
    "def algprod(G1, G2):\n",
    "## This function implements the product for two linear combinations of graphs: G1, G2. G1, G2 are lists of the form\n",
    "## [coefficient, list of lists]. algprod returns the list where diagramprod is distributed over G1 and G2.\n",
    "    return [diagramprod(g1,g2) for g1 in G1 for g2 in G2]\n",
    " \n",
    "def recurseprod(G):\n",
    "## Implements the product of an arbitrary number of G = [G1,G2,G3,...]. This is done recursively. I.e\n",
    "## recurseprod([G1, G2, G3,..]) = algprod(G1, recurseprod([G2,G3,...]), etc.\n",
    "    if len(G) > 1:\n",
    "        return algprod(G[0],recurseprod(G[1:]))\n",
    "    else:\n",
    "        return G[0]                  \n",
    "\n",
    "def GraphPolynomialData(V):\n",
    "## Given a list of vertices, where each vertex is a list of legs (numbered using integers)\n",
    "## this produces a list of data necessary to reproduce the corresponding polynomial.\n",
    "## GraphPolynomialData(V) returns a list [l, l3], where l3 is the total number of edges in V\n",
    "## l is a list of pairs [l1,l2], where l1 is the number of parts in a partition\n",
    "## and l2 is the number of connected edges in the partition.\n",
    "    VertexPartitions = SetPartitions(len(V)).list()\n",
    "    l = []\n",
    "    l3 = 0\n",
    "    for partition in VertexPartitions:     \n",
    "        l1 = len(partition)\n",
    "        l2 = 0\n",
    "        for part in partition:\n",
    "            l2 = l2 + CountDuplicates([V[i-1] for i in part])  \n",
    "        l.append([l1, l2])\n",
    "    if len(flatten(V)) > 0:\n",
    "        l3 = CountDuplicates(V)\n",
    "    return [l, l3]\n",
    "\n",
    "def GraphPolynomialFromData(Data):\n",
    "## This function takes the data returned from GraphPolynomialData and produces the corresponding graph function\n",
    "    D = var(\"D\")        \n",
    "    polynomial = 0\n",
    "    for d in Data[0]:\n",
    "        polynomial = polynomial + (DFactorialk(d[0]))*(1-D)^d[1]\n",
    "    return polynomial/(-D)^Data[1]\n",
    "\n",
    "def GP(G):\n",
    "## GP takes a list of diagrams with coefficients and produces the sum of polynomials, weighted by the coefficients.\n",
    "## This is used to complete n-point calculations, after having done the multiplication of diagrams, coming from\n",
    "## wick contractions.\n",
    "    p = 0\n",
    "    for g in G:\n",
    "        if 1 not in [len(part) for part in g[1]]:\n",
    "            p = p + g[0]*GraphPolynomialFromData(GraphPolynomialData(g[1]))\n",
    "    return p\n",
    "\n",
    "def OnePointM(M):\n",
    "    D = var('D')\n",
    "    rho1 = var('rho_1')\n",
    "    rho2 = var('rho_2')\n",
    "    return [\n",
    "            [rho1/D, []],\n",
    "            [rho2/sqrt(D-1), [[M[0],M[1]]]]\n",
    "           ]\n",
    "\n",
    "def OnePointN(N):\n",
    "    D = var('D')\n",
    "    rho3 = var('rho_3')\n",
    "    rho4 = var('rho_4')\n",
    "    return [\n",
    "            [rho3/D, []],\n",
    "            [rho4/sqrt(D-1), [[N[0],N[1]]]]\n",
    "           ]\n",
    "    \n",
    "def TwoPointMN(M,N,i):\n",
    "    D = var('D')\n",
    "    XY0_11 = var('XY0_11', latex_name=r\"({\\Lambda}^{-1}_{V_0})^{XY}_{11}\")\n",
    "    XY0_22 = var('XY0_22', latex_name=r\"({\\Lambda}^{-1}_{V_0})^{XY}_{22}\")\n",
    "    XY0_12 = var('XY0_12', latex_name=r\"({\\Lambda}^{-1}_{V_0})^{XY}_{12}\")\n",
    "    XY0_21 = var('XY0_21', latex_name=r\"({\\Lambda}^{-1}_{V_0})^{XY}_{21}\")\n",
    "    XYH_11 = var('XYH_11', latex_name=r\"({\\Lambda}^{-1}_{V_H})^{XY}_{11}\")\n",
    "    XYH_22 = var('XYH_22', latex_name=r\"({\\Lambda}^{-1}_{V_H})^{XY}_{22}\")\n",
    "    XYH_33 = var('XYH_33', latex_name=r\"({\\Lambda}^{-1}_{V_H})^{XY}_{33}\")\n",
    "    XYH_12 = var('XYH_12', latex_name=r\"({\\Lambda}^{-1}_{V_H})^{XY}_{12}\")\n",
    "    XYH_21 = var('XYH_21', latex_name=r\"({\\Lambda}^{-1}_{V_H})^{XY}_{21}\")\n",
    "    XYH_13 = var('XYH_13', latex_name=r\"({\\Lambda}^{-1}_{V_H})^{XY}_{13}\")\n",
    "    XYH_31 = var('XYH_31', latex_name=r\"({\\Lambda}^{-1}_{V_H})^{XY}_{31}\")\n",
    "    XYH_23 = var('XYH_23', latex_name=r\"({\\Lambda}^{-1}_{V_H})^{XY}_{23}\")\n",
    "    XYH_32 = var('XYH_32', latex_name=r\"({\\Lambda}^{-1}_{V_H})^{XY}_{32}\")\n",
    "    XYV2 = var('XYV2', latex_name=r\"({\\Lambda}^{-1}_{V_2})^{XY}\")\n",
    "    XYV3 = var('XYV3', latex_name=r\"({\\Lambda}^{-1}_{V_3})^{XY}\")        \n",
    "    G = [\n",
    "            [XY0_11/D^2, []],\n",
    "            [XY0_22/(D-1), [[M[0], M[1]],[N[0], N[1]]]],\n",
    "            [XY0_12/(D*sqrt(D-1)), [[N[0], N[1]]]],\n",
    "            [XY0_21/(D*sqrt(D-1)), [[M[0], M[1]]]],\n",
    "            [XYH_11/D, [[M[1],N[1]]]],\n",
    "            [XYH_22/D, [[M[0],N[0]]]],\n",
    "            [D*XYH_33/(D-2), [[M[0],M[1],i],[N[0],N[1],i]]],\n",
    "            [XYH_12/D, [[M[1],N[0]]]],\n",
    "            [XYH_21/D, [[M[0],N[1]]]],\n",
    "            [XYH_13/sqrt(D-2), [[M[1],N[0],N[1]]]],\n",
    "            [XYH_31/sqrt(D-2), [[M[0],M[1],N[1]]]],\n",
    "            [XYH_23/sqrt(D-2), [[M[0],N[0],N[1]]]],\n",
    "            [XYH_32/sqrt(D-2), [[M[0],M[1],N[0]]]],\n",
    "            [XYV2/2, [[M[0],N[0]],[M[1],N[1]]]],\n",
    "            [XYV2/2, [[M[0],N[1]],[M[1],N[0]]]],\n",
    "            [-D*XYV2/(D-2), [[M[0],M[1],i],[N[0],N[1],i]]],\n",
    "            [-XYV2/(D-1), [[M[0],M[1]],[N[0],N[1]]]],\n",
    "            [+XYV3/2, [[M[0],N[0]],[M[1],N[1]]]],\n",
    "            [-XYV3/2, [[M[0],N[1]],[M[1],N[0]]]]\n",
    "    ]\n",
    "    return G\n",
    "\n",
    "def TwoPointMM(M,N,i):\n",
    "    D = var('D')\n",
    "    X0_11 = var('X0_11', latex_name=r\"({\\Lambda}^{-1}_{V_0})^{X}_{11}\")\n",
    "    X0_22 = var('X0_22', latex_name=r\"({\\Lambda}^{-1}_{V_0})^{X}_{22}\")\n",
    "    X0_12 = var('X0_12', latex_name=r\"({\\Lambda}^{-1}_{V_0})^{X}_{12}\")\n",
    "    X0_21 = var('X0_21', latex_name=r\"({\\Lambda}^{-1}_{V_0})^{X}_{21}\")\n",
    "    XH_11 = var('XH_11', latex_name=r\"({\\Lambda}^{-1}_{V_H})^{X}_{11}\")\n",
    "    XH_22 = var('XH_22', latex_name=r\"({\\Lambda}^{-1}_{V_H})^{X}_{22}\")\n",
    "    XH_33 = var('XH_33', latex_name=r\"({\\Lambda}^{-1}_{V_H})^{X}_{33}\")\n",
    "    XH_12 = var('XH_12', latex_name=r\"({\\Lambda}^{-1}_{V_H})^{X}_{12}\")\n",
    "    XH_21 = var('XH_21', latex_name=r\"({\\Lambda}^{-1}_{V_H})^{X}_{21}\")\n",
    "    XH_13 = var('XH_13', latex_name=r\"({\\Lambda}^{-1}_{V_H})^{X}_{13}\")\n",
    "    XH_31 = var('XH_31', latex_name=r\"({\\Lambda}^{-1}_{V_H})^{X}_{31}\")\n",
    "    XH_23 = var('XH_23', latex_name=r\"({\\Lambda}^{-1}_{V_H})^{X}_{23}\")\n",
    "    XH_32 = var('XH_32', latex_name=r\"({\\Lambda}^{-1}_{V_H})^{X}_{32}\")\n",
    "    XV2 = var('XV2', latex_name=r\"({\\Lambda}^{-1}_{V_2})^{X}\")\n",
    "    XV3 = var('XV3', latex_name=r\"({\\Lambda}^{-1}_{V_3})^{X}\")       \n",
    "    G = [\n",
    "            [X0_11/D^2, []],\n",
    "            [X0_22/(D-1), [[M[0], M[1]],[N[0], N[1]]]],\n",
    "            [X0_12/(D*sqrt(D-1)), [[N[0], N[1]]]],\n",
    "            [X0_12/(D*sqrt(D-1)), [[M[0], M[1]]]],\n",
    "            [XH_11/D, [[M[1],N[1]]]],\n",
    "            [XH_22/D, [[M[0],N[0]]]],\n",
    "            [D*XH_33/(D-2), [[M[0],M[1],i],[N[0],N[1],i]]],\n",
    "            [XH_12/D, [[M[1],N[0]]]],\n",
    "            [XH_12/D, [[M[0],N[1]]]],\n",
    "            [XH_13/sqrt(D-2), [[M[1],N[0],N[1]]]],\n",
    "            [XH_13/sqrt(D-2), [[M[0],M[1],N[1]]]],\n",
    "            [XH_23/sqrt(D-2), [[M[0],N[0],N[1]]]],\n",
    "            [XH_23/sqrt(D-2), [[M[0],M[1],N[0]]]],\n",
    "            [XV2/2, [[M[0],N[0]],[M[1],N[1]]]],\n",
    "            [XV2/2, [[M[0],N[1]],[M[1],N[0]]]],\n",
    "            [-D*XV2/(D-2), [[M[0],M[1],i],[N[0],N[1],i]]],\n",
    "            [-XV2/(D-1), [[M[0],M[1]],[N[0],N[1]]]],\n",
    "            [+XV3/2, [[M[0],N[0]],[M[1],N[1]]]],\n",
    "            [-XV3/2, [[M[0],N[1]],[M[1],N[0]]]]\n",
    "    ]\n",
    "    return G \n",
    "\n",
    "def TwoPointNN(M,N,i):\n",
    "    D = var('D')\n",
    "    Y0_11 = var('Y0_11', latex_name=r\"({\\Lambda}^{-1}_{V_0})^{Y}_{11}\")\n",
    "    Y0_22 = var('Y0_22', latex_name=r\"({\\Lambda}^{-1}_{V_0})^{Y}_{22}\")\n",
    "    Y0_12 = var('Y0_12', latex_name=r\"({\\Lambda}^{-1}_{V_0})^{Y}_{12}\")\n",
    "    Y0_21 = var('Y0_21', latex_name=r\"({\\Lambda}^{-1}_{V_0})^{Y}_{21}\")\n",
    "    YH_11 = var('YH_11', latex_name=r\"({\\Lambda}^{-1}_{V_H})^{Y}_{11}\")\n",
    "    YH_22 = var('YH_22', latex_name=r\"({\\Lambda}^{-1}_{V_H})^{Y}_{22}\")\n",
    "    YH_33 = var('YH_33', latex_name=r\"({\\Lambda}^{-1}_{V_H})^{Y}_{33}\")\n",
    "    YH_12 = var('YH_12', latex_name=r\"({\\Lambda}^{-1}_{V_H})^{Y}_{12}\")\n",
    "    YH_21 = var('YH_21', latex_name=r\"({\\Lambda}^{-1}_{V_H})^{Y}_{21}\")\n",
    "    YH_13 = var('YH_13', latex_name=r\"({\\Lambda}^{-1}_{V_H})^{Y}_{13}\")\n",
    "    YH_31 = var('YH_31', latex_name=r\"({\\Lambda}^{-1}_{V_H})^{Y}_{31}\")\n",
    "    YH_23 = var('YH_23', latex_name=r\"({\\Lambda}^{-1}_{V_H})^{Y}_{23}\")\n",
    "    YH_32 = var('YH_32', latex_name=r\"({\\Lambda}^{-1}_{V_H})^{Y}_{32}\")\n",
    "    YV2 = var('YV2', latex_name=r\"({\\Lambda}^{-1}_{V_2})^{X}\")\n",
    "    YV3 = var('YV3', latex_name=r\"({\\Lambda}^{-1}_{V_3})^{Y}\")    \n",
    "    G = [\n",
    "            [Y0_11/D^2, []],\n",
    "            [Y0_22/(D-1), [[M[0], M[1]],[N[0], N[1]]]],\n",
    "            [Y0_12/(D*sqrt(D-1)), [[N[0], N[1]]]],\n",
    "            [Y0_12/(D*sqrt(D-1)), [[M[0], M[1]]]],\n",
    "            [YH_11/D, [[M[1],N[1]]]],\n",
    "            [YH_22/D, [[M[0],N[0]]]],\n",
    "            [D*YH_33/(D-2), [[M[0],M[1],i],[N[0],N[1],i]]],\n",
    "            [YH_12/D, [[M[1],N[0]]]],\n",
    "            [YH_12/D, [[M[0],N[1]]]],\n",
    "            [YH_13/sqrt(D-2), [[M[1],N[0],N[1]]]],\n",
    "            [YH_13/sqrt(D-2), [[M[0],M[1],N[1]]]],\n",
    "            [YH_23/sqrt(D-2), [[M[0],N[0],N[1]]]],\n",
    "            [YH_23/sqrt(D-2), [[M[0],M[1],N[0]]]],\n",
    "            [YV2/2, [[M[0],N[0]],[M[1],N[1]]]],\n",
    "            [YV2/2, [[M[0],N[1]],[M[1],N[0]]]],\n",
    "            [-D*YV2/(D-2), [[M[0],M[1],i],[N[0],N[1],i]]],\n",
    "            [-YV2/(D-1), [[M[0],M[1]],[N[0],N[1]]]],\n",
    "            [+YV3/2, [[M[0],N[0]],[M[1],N[1]]]],\n",
    "            [-YV3/2, [[M[0],N[1]],[M[1],N[0]]]]\n",
    "    ]\n",
    "    return G \n",
    "    \n",
    "def Npoint(Mtuples, Ntuples, invariant):\n",
    "## The free field N-point correlator is a sum over all possible partitions of the \n",
    "## N elementary fields where the partition has parts of size one or two.\n",
    "## Fields in the same part are put into a one or two point correlator respectively, and the\n",
    "## product of these is calculated.\n",
    "## Npoint takes a list Mtuples of pairs [integer1, integer2] which label the indices of the M-matrices,\n",
    "## and a second list Ntuples for the N-matrices.\n",
    "## invariant is a set partition(list of lists) of the integers in Mtuples and Ntuples, describing\n",
    "## a particular permutation invariant observable.\n",
    "## Integers in the same part in invariant correspond to a sum where the corresponding indices are\n",
    "## set equal.\n",
    "    contractions = []\n",
    "    Tuples = Mtuples+Ntuples\n",
    "    m = len(Mtuples)\n",
    "    n = len(Ntuples)\n",
    "    N = (m+n)\n",
    "    wicks = [s for s in SetPartitions(range(N)) if all(x<3 for x in s.shape())]\n",
    "    for wick in wicks:\n",
    "        twopts = []\n",
    "        onepts = []\n",
    "        i = 2*(m+n)\n",
    "        for matrix1, *matrix2 in wick:  \n",
    "            if not matrix2:         \n",
    "                ## matrix2 returns false if empty, i.e. if w has just one element (one point)\n",
    "                onepts += [OnePointM(Tuples[matrix1]) if matrix1 < m else OnePointN(Tuples[matrix1])]\n",
    "            else:           \n",
    "                i += 1\n",
    "                if matrix1 < m and matrix2[0] < m: ## <MM>\n",
    "                    twopts += [TwoPointMM(Tuples[matrix1],Tuples[matrix2[0]],i)]\n",
    "                elif matrix1 < m and matrix2[0] >= m: ##  <MN>\n",
    "                    twopts += [TwoPointMN(Tuples[matrix1],Tuples[matrix2[0]],i)]\n",
    "                elif matrix1 >= m and matrix2[0] < m: ##  <NM>\n",
    "                    twopts += [TwoPointMN(Tuples[matrix2[0]],Tuples[matrix1],i)]\n",
    "                elif matrix1 >= m and matrix2[0] >= m: ## <NN>\n",
    "                    twopts += [TwoPointNN(Tuples[matrix1],Tuples[matrix2[0]],i)]\n",
    "        contractions += recurseprod(twopts+onepts)\n",
    "    G = [[g[0], keepElements(invariant, g[1])+g[1]] for g in contractions]\n",
    "    return GP(G)"
   ]
  },
  {
   "cell_type": "code",
   "execution_count": null,
   "metadata": {},
   "outputs": [],
   "source": [
    "## Cubic expectation values"
   ]
  },
  {
   "cell_type": "code",
   "execution_count": null,
   "metadata": {},
   "outputs": [],
   "source": [
    "## Expectation value <M_ii M_ii N_ii>\n",
    "Npoint([[1,2],[3,4]],[[5,6]],[[1,2,3,4,5,6]]).full_simplify()"
   ]
  },
  {
   "cell_type": "code",
   "execution_count": 12,
   "metadata": {
    "scrolled": true
   },
   "outputs": [
    {
     "data": {
      "text/plain": [
       "1/2*(2*(2*(D - 1)*XY0_11 + 2*(D - 1)*XY0_22 + 2*(D^2 - 2*D + 1)*XYH_11 + 2*(D^2 - 2*D + 1)*XYH_22 + 2*(D^2 - 2*D + 1)*XYH_33 + (D^3 - 4*D^2 + 3*D)*XYV2 + (D^3 - 4*D^2 + 5*D - 2)*XYV3)*rho_1 + 4*((D - 1)*XY0_12 + (D - 1)*XY0_21)*rho_2 + (2*(D - 1)*rho_1^2 + 2*(D - 1)*rho_2^2 + 2*(D - 1)*X0_11 + 2*(D - 1)*X0_22 + 2*(D^2 - 2*D + 1)*XH_11 + 2*(D^2 - 2*D + 1)*XH_22 + 2*(D^2 - 2*D + 1)*XH_33 + (D^3 - 4*D^2 + 3*D)*XV2 + (D^3 - 4*D^2 + 5*D - 2)*XV3)*rho_3 + 4*((D - 1)*rho_1*rho_2 + (D - 1)*X0_12)*rho_4 + (2*(2*(D - 2)*XY0_22 + 2*(D - 1)*XYH_12 + 2*(D - 1)*XYH_21 + 2*(D^2 - 4*D + 3)*XYH_33 - (D^2 - 3*D)*XYV2 - (D^2 - 3*D + 2)*XYV3)*rho_2 + (2*(D - 2)*rho_2^2 + 2*(D - 2)*X0_22 + 4*(D - 1)*XH_12 + 2*(D^2 - 4*D + 3)*XH_33 - (D^2 - 3*D)*XV2 - (D^2 - 3*D + 2)*XV3)*rho_4 + 4*(((D - 1)*XYH_13 + (D - 1)*XYH_23 + (D - 1)*XYH_31 + (D - 1)*XYH_32)*rho_2 + ((D - 1)*XH_13 + (D - 1)*XH_23)*rho_4)*sqrt(D - 2))*sqrt(D - 1))/(D^2 - D)"
      ]
     },
     "execution_count": 12,
     "metadata": {},
     "output_type": "execute_result"
    }
   ],
   "source": [
    "## Expectation value <M_ij M_ij N_ij>\n",
    "Npoint([[1,2],[3,4]],[[5,6]],[[1,3,5],[2,4,6]]).full_simplify()"
   ]
  },
  {
   "cell_type": "code",
   "execution_count": 10,
   "metadata": {
    "scrolled": true
   },
   "outputs": [
    {
     "data": {
      "text/plain": [
       "1/2*(2*(2*(D - 1)*XY0_11 + (D^2 - 2*D + 1)*XYH_12 + (D^2 - 2*D + 1)*XYH_21)*rho_1 + 2*((D - 1)*rho_1^2 + (D - 1)*X0_11 + (D^2 - 2*D + 1)*XH_12)*rho_3 + (2*((D - 1)*XYH_12 + (D - 1)*XYH_21 + 2*(D - 1)*XYH_33 + (D^2 - 3*D)*XYV2 - (D^2 - 3*D + 2)*XYV3 + 2*XY0_22)*rho_2 + (2*(D - 1)*XH_12 + 2*(D - 1)*XH_33 + (D^2 - 3*D)*XV2 - (D^2 - 3*D + 2)*XV3 + 2*rho_2^2 + 2*X0_22)*rho_4)*sqrt(D - 1))/(D - 1)"
      ]
     },
     "execution_count": 10,
     "metadata": {},
     "output_type": "execute_result"
    }
   ],
   "source": [
    "## Expectation value <M_ij M_jk N_ki>\n",
    "Npoint([[1,2],[3,4]],[[5,6]],[[1,6],[2,3],[4,5]]).full_simplify()"
   ]
  },
  {
   "cell_type": "code",
   "execution_count": 9,
   "metadata": {},
   "outputs": [
    {
     "data": {
      "text/plain": [
       "2*D^3*XY0_11*rho_1 + (D^3*rho_1^2 + D^3*X0_11)*rho_3"
      ]
     },
     "execution_count": 9,
     "metadata": {},
     "output_type": "execute_result"
    }
   ],
   "source": [
    "## Expectation value <M_ij M_kl N_pq>\n",
    "Npoint([[1,2],[3,4]],[[5,6]],[[1],[2],[3],[4],[5],[6]]).full_simplify()"
   ]
  },
  {
   "cell_type": "code",
   "execution_count": null,
   "metadata": {},
   "outputs": [],
   "source": [
    "## Quartic expectation values"
   ]
  },
  {
   "cell_type": "code",
   "execution_count": 15,
   "metadata": {},
   "outputs": [
    {
     "data": {
      "text/plain": [
       "D^4*Y0_11*rho_1^2 + 4*D^4*XY0_11*rho_1*rho_3 + 2*D^4*XY0_11^2 + D^4*X0_11*Y0_11 + (D^4*rho_1^2 + D^4*X0_11)*rho_3^2"
      ]
     },
     "execution_count": 15,
     "metadata": {},
     "output_type": "execute_result"
    }
   ],
   "source": [
    "## Expectation value <M_ij M_kl N_pq N_rs>\n",
    "Npoint([[1,2],[3,4]],[[5,6],[7,8]],[[1],[2],[3],[4],[5],[6],[7],[8]]).full_simplify()"
   ]
  },
  {
   "cell_type": "code",
   "execution_count": 16,
   "metadata": {},
   "outputs": [
    {
     "data": {
      "text/plain": [
       "D^3*Y0_11*rho_1^2 + 2*D^3*XY0_11^2 + D^3*X0_11*Y0_11 + (D^4 - D^3)*XY0_11*XYH_22 + (4*D^3*XY0_11 + (D^4 - D^3)*XYH_22)*rho_1*rho_3 + (D^3*rho_1^2 + D^3*X0_11)*rho_3^2"
      ]
     },
     "execution_count": 16,
     "metadata": {},
     "output_type": "execute_result"
    }
   ],
   "source": [
    "## Expectation value <M_ij M_kl N_iq N_rs>\n",
    "Npoint([[1,2],[3,4]],[[5,6],[7,8]],[[1,5],[2],[3],[4],[6],[7],[8]]).full_simplify()"
   ]
  },
  {
   "cell_type": "code",
   "execution_count": 17,
   "metadata": {},
   "outputs": [
    {
     "data": {
      "text/plain": [
       "D^2*Y0_11*rho_1^2 + 2*D^2*XY0_11^2 + (D^3 - D^2)*XY0_11*XYH_22 + (4*D^2*XY0_11 + (D^3 - D^2)*XYH_22)*rho_1*rho_3 + (D^2*rho_1^2 + D^2*X0_11 + (D^3 - D^2)*XH_12)*rho_3^2 + (D^2*X0_11 + (D^3 - D^2)*XH_12)*Y0_11 + (D^2*XYH_22*rho_2*rho_3 + D^2*XY0_21*XYH_22)*sqrt(D - 1)"
      ]
     },
     "execution_count": 17,
     "metadata": {},
     "output_type": "execute_result"
    }
   ],
   "source": [
    "## Expectation value <M_ij M_jk N_il N_lp>\n",
    "Npoint([[1,2],[3,4]],[[5,6],[7,8]],[[1,5],[2,3],[4],[6],[7],[8]]).full_simplify()"
   ]
  },
  {
   "cell_type": "code",
   "execution_count": 18,
   "metadata": {},
   "outputs": [
    {
     "data": {
      "text/plain": [
       "D*XYH_12*rho_2*rho_4 + 2*D*XY0_11^2 + (D^2 - D)*XYH_12*XYH_21 + (D^2 - D)*XYH_11*XYH_22 + (D^2 - D)*XYH_13*XYH_32 + (D^2 - D)*XYH_12*XYH_33 + 1/2*(D^3 - 3*D^2)*XYH_12*XYV2 - 1/2*(D^3 - 3*D^2 + 2*D)*XYH_12*XYV3 + (D*Y0_11 + (D^2 - D)*YH_12)*rho_1^2 + (4*D*XY0_11 + (D^2 - D)*XYH_12)*rho_1*rho_3 + (D*rho_1^2 + D*X0_11 + (D^2 - D)*XH_12)*rho_3^2 + ((D^2 - D)*XY0_11 + D*XY0_22)*XYH_12 + (D*X0_11 + (D^2 - D)*XH_12)*Y0_11 + ((D^2 - D)*X0_11 + (D^3 - 2*D^2 + D)*XH_12)*YH_12 + (D*XYH_12*rho_2*rho_3 + D*XYH_12*rho_1*rho_4 + (D*XY0_12 + D*XY0_21)*XYH_12)*sqrt(D - 1)"
      ]
     },
     "execution_count": 18,
     "metadata": {},
     "output_type": "execute_result"
    }
   ],
   "source": [
    "## Expectation value <M_ij M_jk N_kl N_lp>\n",
    "Npoint([[1,2],[3,4]],[[5,6],[7,8]],[[1],[2,3],[4,5],[6,7],[8]]).full_simplify()"
   ]
  }
 ],
 "metadata": {
  "kernelspec": {
   "display_name": "SageMath 9.1",
   "language": "sage",
   "name": "sagemath"
  },
  "language_info": {
   "codemirror_mode": {
    "name": "ipython",
    "version": 3
   },
   "file_extension": ".py",
   "mimetype": "text/x-python",
   "name": "python",
   "nbconvert_exporter": "python",
   "pygments_lexer": "ipython3",
   "version": "3.7.3"
  }
 },
 "nbformat": 4,
 "nbformat_minor": 2
}
